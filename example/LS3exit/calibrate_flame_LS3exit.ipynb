{
 "cells": [
  {
   "cell_type": "code",
   "execution_count": 23,
   "id": "round-lottery",
   "metadata": {},
   "outputs": [],
   "source": [
    "import pickle\n",
    "import numpy as np\n",
    "import pandas as pd\n",
    "import matplotlib.pyplot as plt\n",
    "\n",
    "from FRIB_model import flame_helper as fh\n",
    "from FRIB_model import machine_portal_helper as mh\n",
    "from FRIB_model.utils import NelderMead\n",
    "import flame_utils"
   ]
  },
  {
   "cell_type": "code",
   "execution_count": null,
   "id": "sexual-jewelry",
   "metadata": {},
   "outputs": [],
   "source": [
    "validation_split = 0.7"
   ]
  },
  {
   "cell_type": "markdown",
   "id": "american-auditor",
   "metadata": {},
   "source": [
    "# load data"
   ]
  },
  {
   "cell_type": "code",
   "execution_count": 74,
   "id": "signed-advocate",
   "metadata": {},
   "outputs": [],
   "source": [
    "data_before = pickle.load(open(\"20231130_measure_BPM4pickup_random_quad_corr.pkl\",\"rb\"))\n",
    "CSETs = data_before['PV_CSETs']\n",
    "data_before = data_before['data']"
   ]
  },
  {
   "cell_type": "code",
   "execution_count": 75,
   "id": "leading-consultation",
   "metadata": {},
   "outputs": [],
   "source": [
    "data_after0 = pickle.load(open(\"20231130_measure_BPM4pickup_random_corr_after_vslit_adjust.pkl\",     \"rb\"))\n",
    "data_after1 = pickle.load(open(\"20231130_measure_BPM4pickup_random_quad_corr_after_vslit_adjust.pkl\",\"rb\"))\n",
    "assert np.all(data_after0['PV_CSETs'] == data_after1['PV_CSETs'])\n",
    "assert np.all(                  CSETs == data_after1['PV_CSETs'])\n",
    "data_after0 = data_after0['data']\n",
    "data_after1 = data_after1['data']\n",
    "data_after = data_after0 + data_after1"
   ]
  },
  {
   "cell_type": "code",
   "execution_count": 76,
   "id": "standing-defendant",
   "metadata": {},
   "outputs": [],
   "source": [
    "quad_names = mh.sort_by_Dnum([name for name in CSETs if \":PSQ\" in name])\n",
    "corr_names = mh.sort_by_Dnum([name for name in CSETs if \":PSC\" in name])"
   ]
  },
  {
   "cell_type": "code",
   "execution_count": 77,
   "id": "quick-craps",
   "metadata": {},
   "outputs": [
    {
     "data": {
      "text/plain": [
       "(222, 60)"
      ]
     },
     "execution_count": 77,
     "metadata": {},
     "output_type": "execute_result"
    }
   ],
   "source": [
    "len(data_before), len(data_after)"
   ]
  },
  {
   "cell_type": "markdown",
   "id": "particular-grace",
   "metadata": {},
   "source": [
    "# prepare flame lattice and initial bmstate"
   ]
  },
  {
   "cell_type": "code",
   "execution_count": 78,
   "id": "modified-music",
   "metadata": {},
   "outputs": [],
   "source": [
    "from_elem = 'LS3_WD06:BPM_D4699'\n",
    "to_elem = 'BDS_BBS:BPM_D5625'\n",
    "from_Dnum = 4699\n",
    "to_Dnum = 5625"
   ]
  },
  {
   "cell_type": "code",
   "execution_count": 79,
   "id": "enclosed-ocean",
   "metadata": {},
   "outputs": [
    {
     "data": {
      "text/plain": [
       "(33, 33, 32, 32)"
      ]
     },
     "execution_count": 79,
     "metadata": {},
     "output_type": "execute_result"
    }
   ],
   "source": [
    "fm = flame_utils.ModelFlame(\"flame_reconst_input.lat\")\n",
    "fh.update_zL(fm)\n",
    "quads = fh.get_df_by_type('quadrupole',fm, mh.get_Dnum_from_pv(quad_names[0]), mh.get_Dnum_from_pv(quad_names[-1]))\n",
    "corrs = fh.get_df_by_type('orbtrim',   fm, mh.get_Dnum_from_pv(corr_names[0]), mh.get_Dnum_from_pv(corr_names[-1]))\n",
    "len(quads), len(quad_names), len(corrs), len(corr_names)"
   ]
  },
  {
   "cell_type": "code",
   "execution_count": 80,
   "id": "valued-charm",
   "metadata": {},
   "outputs": [],
   "source": [
    "r,bmstate0 = fm.run(to_element=from_elem)"
   ]
  },
  {
   "cell_type": "markdown",
   "id": "inclusive-involvement",
   "metadata": {},
   "source": [
    "# process data to flame_eval and flame_goal for training"
   ]
  },
  {
   "cell_type": "code",
   "execution_count": 82,
   "id": "sticky-german",
   "metadata": {},
   "outputs": [
    {
     "data": {
      "text/plain": [
       "array([ 60.767   ,  72.264   ,  96.543   ,  58.669   ,  54.702   ,\n",
       "        63.493   ,  43.37    ,  63.188   ,  55.315   ,  71.944   ,\n",
       "        78.685   ,  61.293   ,  58.774   ,  68.761   ,  65.72    ,\n",
       "        62.37    ,  62.012   ,  52.905   ,  58.056   ,  45.86    ,\n",
       "        47.635   ,  51.689   ,  49.824   ,  54.763   ,  56.55    ,\n",
       "        59.684   , 121.794   , 111.218   ,  46.652   ,   5.815   ,\n",
       "        82.245   ,  79.048   , 138.187   ,  -3.50362 ,  -5.66042 ,\n",
       "        -9.428835,   3.02244 ,   7.9716  ,  -6.189735,   4.61961 ,\n",
       "         4.85943 ,  -4.88983 ,  -1.78257 ,  -2.756525,  -0.25836 ,\n",
       "         4.24841 ,  -0.560075,  -1.34327 ,   5.58256 ,  -3.6184  ,\n",
       "         8.00216 ,   5.57214 ,   2.91985 ,  -1.79852 ,  -2.7211  ,\n",
       "       -10.91631 ,  -9.13649 ,   1.30627 ,  -8.64889 ,   9.98863 ,\n",
       "         7.35159 ,   6.29473 ,   1.39776 ,   0.88703 ,   4.32488 ])"
      ]
     },
     "execution_count": 82,
     "metadata": {},
     "output_type": "execute_result"
    }
   ],
   "source": [
    "data_before[0]['RDs']"
   ]
  },
  {
   "cell_type": "code",
   "execution_count": 86,
   "id": "compliant-impossible",
   "metadata": {},
   "outputs": [],
   "source": [
    "fmElems = fh.get_elem_from_PVs(CSETs,fm)"
   ]
  },
  {
   "cell_type": "code",
   "execution_count": 88,
   "id": "activated-footwear",
   "metadata": {},
   "outputs": [
    {
     "data": {
      "text/plain": [
       "True"
      ]
     },
     "execution_count": 88,
     "metadata": {},
     "output_type": "execute_result"
    }
   ],
   "source": []
  },
  {
   "cell_type": "code",
   "execution_count": null,
   "id": "aggregate-shoulder",
   "metadata": {},
   "outputs": [],
   "source": [
    "flame_evals_before = []\n",
    "flame_goals_before = []\n",
    "\n"
   ]
  },
  {
   "cell_type": "markdown",
   "id": "alpha-privilege",
   "metadata": {},
   "source": [
    "# construct calibration loss and test"
   ]
  },
  {
   "cell_type": "code",
   "execution_count": null,
   "id": "informative-photograph",
   "metadata": {},
   "outputs": [],
   "source": [
    "flame_evals = []\n",
    "flame_goals = []\n",
    "\n",
    "for RDs, data_before['RDs'],\n",
    "\n",
    "\n",
    "\n",
    "\n",
    "\n",
    "for d in list_of_data:\n",
    "    n = len(d['RDs'])\n",
    "    nval = int(n*(1-validation_split))\n",
    "    ntrain = n-nval\n",
    "    if ntrain > 1:\n",
    "        train = {'RDs': d['RDs'][nval:]\n",
    "                 'RDs': d['RDs'][nval:]"
   ]
  },
  {
   "cell_type": "code",
   "execution_count": null,
   "id": "developmental-server",
   "metadata": {},
   "outputs": [],
   "source": [
    "class fm_calibrator:\n",
    "    def __init__(self, list_of_data = [data_before,data_after],\n",
    "                 validation_split = validation_split\n",
    "                 ):\n",
    "        self.train_data = []\n",
    "        self.validatiaon_data = []\n",
    "        for d in list_of_data:\n",
    "            n = len(d['RDs'])\n",
    "            nval = int(n*(1-validation_split))\n",
    "            ntrain = n-nval\n",
    "            if ntrain > 1:\n",
    "                train = {'RDs': d['RDs'][nval:]\n",
    "    "
   ]
  }
 ],
 "metadata": {
  "kernelspec": {
   "display_name": "Python 3",
   "language": "python",
   "name": "python3"
  },
  "language_info": {
   "codemirror_mode": {
    "name": "ipython",
    "version": 3
   },
   "file_extension": ".py",
   "mimetype": "text/x-python",
   "name": "python",
   "nbconvert_exporter": "python",
   "pygments_lexer": "ipython3",
   "version": "3.9.2"
  }
 },
 "nbformat": 4,
 "nbformat_minor": 5
}

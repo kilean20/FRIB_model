{
 "cells": [
  {
   "cell_type": "code",
   "execution_count": 1,
   "id": "round-lottery",
   "metadata": {},
   "outputs": [
    {
     "name": "stderr",
     "output_type": "stream",
     "text": [
      "/home/devuser/.local/lib/python3.9/site-packages/matplotlib/projections/__init__.py:63: UserWarning: Unable to import Axes3D. This may be due to multiple versions of Matplotlib being installed (e.g. as a system package and as a pip package). As a result, the 3D projection is not available.\n",
      "  warnings.warn(\"Unable to import Axes3D. This may be due to multiple versions of \"\n"
     ]
    },
    {
     "name": "stdout",
     "output_type": "stream",
     "text": [
      "FRIB_model version: 1.0.0. updated on 2024-03-05\n"
     ]
    }
   ],
   "source": [
    "import pickle\n",
    "import numpy as np\n",
    "import pandas as pd\n",
    "import matplotlib.pyplot as plt\n",
    "\n",
    "from FRIB_model import flame_helper as fh\n",
    "from FRIB_model import machine_portal_helper as mh\n",
    "from FRIB_model.utils import NelderMead\n",
    "import flame_utils"
   ]
  },
  {
   "cell_type": "code",
   "execution_count": null,
   "id": "forced-grave",
   "metadata": {},
   "outputs": [],
   "source": []
  },
  {
   "cell_type": "code",
   "execution_count": null,
   "id": "fatty-lemon",
   "metadata": {},
   "outputs": [],
   "source": []
  },
  {
   "cell_type": "code",
   "execution_count": 2,
   "id": "sexual-jewelry",
   "metadata": {},
   "outputs": [],
   "source": [
    "validation_split = 0.7"
   ]
  },
  {
   "cell_type": "markdown",
   "id": "american-auditor",
   "metadata": {},
   "source": [
    "# load data"
   ]
  },
  {
   "cell_type": "code",
   "execution_count": 3,
   "id": "signed-advocate",
   "metadata": {},
   "outputs": [],
   "source": [
    "data_before = pickle.load(open(\"20231130_measure_BPM4pickup_random_quad_corr.pkl\",\"rb\"))\n",
    "CSETs = data_before['PV_CSETs']\n",
    "data_before = data_before['data']"
   ]
  },
  {
   "cell_type": "code",
   "execution_count": 4,
   "id": "leading-consultation",
   "metadata": {},
   "outputs": [],
   "source": [
    "data_after0 = pickle.load(open(\"20231130_measure_BPM4pickup_random_corr_after_vslit_adjust.pkl\",     \"rb\"))\n",
    "data_after1 = pickle.load(open(\"20231130_measure_BPM4pickup_random_quad_corr_after_vslit_adjust.pkl\",\"rb\"))\n",
    "assert np.all(data_after0['PV_CSETs'] == data_after1['PV_CSETs'])\n",
    "assert np.all(                  CSETs == data_after1['PV_CSETs'])\n",
    "data_after0 = data_after0['data']\n",
    "data_after1 = data_after1['data']\n",
    "data_after = data_after0 + data_after1"
   ]
  },
  {
   "cell_type": "code",
   "execution_count": 5,
   "id": "standing-defendant",
   "metadata": {},
   "outputs": [],
   "source": [
    "quad_names = mh.sort_by_Dnum([name for name in CSETs if \":PSQ\" in name])\n",
    "corr_names = mh.sort_by_Dnum([name for name in CSETs if \":PSC\" in name])"
   ]
  },
  {
   "cell_type": "code",
   "execution_count": 6,
   "id": "quick-craps",
   "metadata": {},
   "outputs": [
    {
     "data": {
      "text/plain": [
       "(222, 60)"
      ]
     },
     "execution_count": 6,
     "metadata": {},
     "output_type": "execute_result"
    }
   ],
   "source": [
    "len(data_before), len(data_after)"
   ]
  },
  {
   "cell_type": "markdown",
   "id": "particular-grace",
   "metadata": {},
   "source": [
    "# prepare flame lattice and initial bmstate"
   ]
  },
  {
   "cell_type": "code",
   "execution_count": 7,
   "id": "modified-music",
   "metadata": {},
   "outputs": [],
   "source": [
    "from_elem = 'LS3_WD06:BPM_D4699'\n",
    "to_elem = 'BDS_BBS:BPM_D5625'\n",
    "from_Dnum = 4699\n",
    "to_Dnum = 5625"
   ]
  },
  {
   "cell_type": "code",
   "execution_count": 8,
   "id": "enclosed-ocean",
   "metadata": {},
   "outputs": [
    {
     "data": {
      "text/plain": [
       "(33, 33, 32, 32)"
      ]
     },
     "execution_count": 8,
     "metadata": {},
     "output_type": "execute_result"
    }
   ],
   "source": [
    "fm = flame_utils.ModelFlame(\"flame_reconst_input.lat\")\n",
    "fh.update_zL(fm)\n",
    "quads = fh.get_df_by_type('quadrupole',fm, mh.get_Dnum_from_pv(quad_names[0]), mh.get_Dnum_from_pv(quad_names[-1]))\n",
    "corrs = fh.get_df_by_type('orbtrim',   fm, mh.get_Dnum_from_pv(corr_names[0]), mh.get_Dnum_from_pv(corr_names[-1]))\n",
    "len(quads), len(quad_names), len(corrs), len(corr_names)"
   ]
  },
  {
   "cell_type": "code",
   "execution_count": 15,
   "id": "average-sigma",
   "metadata": {},
   "outputs": [
    {
     "data": {
      "text/plain": [
       "12"
      ]
     },
     "execution_count": 15,
     "metadata": {},
     "output_type": "execute_result"
    }
   ],
   "source": [
    "fm.get_index_by_name('LS3_BTS:DCH_D4750')['LS3_BTS:DCH_D4750'][0]"
   ]
  },
  {
   "cell_type": "code",
   "execution_count": 9,
   "id": "valued-charm",
   "metadata": {},
   "outputs": [],
   "source": [
    "r,bmstate0 = fm.run(to_element=from_elem)"
   ]
  },
  {
   "cell_type": "markdown",
   "id": "inclusive-involvement",
   "metadata": {},
   "source": [
    "# process data to flame_eval and flame_goal for training"
   ]
  },
  {
   "cell_type": "code",
   "execution_count": null,
   "id": "sticky-german",
   "metadata": {},
   "outputs": [],
   "source": [
    "data_before[0]['RDs']"
   ]
  },
  {
   "cell_type": "code",
   "execution_count": null,
   "id": "compliant-impossible",
   "metadata": {},
   "outputs": [],
   "source": [
    "fmElems = fh.get_elem_from_PVs(CSETs,fm)"
   ]
  },
  {
   "cell_type": "code",
   "execution_count": null,
   "id": "activated-footwear",
   "metadata": {},
   "outputs": [],
   "source": []
  },
  {
   "cell_type": "code",
   "execution_count": null,
   "id": "aggregate-shoulder",
   "metadata": {},
   "outputs": [],
   "source": [
    "flame_evals_before = []\n",
    "flame_goals_before = []\n",
    "\n"
   ]
  },
  {
   "cell_type": "markdown",
   "id": "alpha-privilege",
   "metadata": {},
   "source": [
    "# construct calibration loss and test"
   ]
  },
  {
   "cell_type": "code",
   "execution_count": null,
   "id": "informative-photograph",
   "metadata": {},
   "outputs": [],
   "source": [
    "flame_evals = []\n",
    "flame_goals = []\n",
    "\n",
    "for RDs, data_before['RDs'],\n",
    "\n",
    "\n",
    "\n",
    "\n",
    "\n",
    "for d in list_of_data:\n",
    "    n = len(d['RDs'])\n",
    "    nval = int(n*(1-validation_split))\n",
    "    ntrain = n-nval\n",
    "    if ntrain > 1:\n",
    "        train = {'RDs': d['RDs'][nval:]\n",
    "                 'RDs': d['RDs'][nval:]"
   ]
  },
  {
   "cell_type": "code",
   "execution_count": null,
   "id": "developmental-server",
   "metadata": {},
   "outputs": [],
   "source": [
    "class fm_calibrator:\n",
    "    def __init__(self, list_of_data = [data_before,data_after],\n",
    "                 validation_split = validation_split\n",
    "                 ):\n",
    "        self.train_data = []\n",
    "        self.validatiaon_data = []\n",
    "        for d in list_of_data:\n",
    "            n = len(d['RDs'])\n",
    "            nval = int(n*(1-validation_split))\n",
    "            ntrain = n-nval\n",
    "            if ntrain > 1:\n",
    "                train = {'RDs': d['RDs'][nval:]\n",
    "    "
   ]
  }
 ],
 "metadata": {
  "kernelspec": {
   "display_name": "Python 3",
   "language": "python",
   "name": "python3"
  },
  "language_info": {
   "codemirror_mode": {
    "name": "ipython",
    "version": 3
   },
   "file_extension": ".py",
   "mimetype": "text/x-python",
   "name": "python",
   "nbconvert_exporter": "python",
   "pygments_lexer": "ipython3",
   "version": "3.9.2"
  }
 },
 "nbformat": 4,
 "nbformat_minor": 5
}

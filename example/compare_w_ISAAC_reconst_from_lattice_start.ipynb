{
 "cells": [
  {
   "cell_type": "code",
   "execution_count": 1,
   "id": "after-juice",
   "metadata": {},
   "outputs": [
    {
     "name": "stderr",
     "output_type": "stream",
     "text": [
      "/home/devuser/.local/lib/python3.9/site-packages/matplotlib/projections/__init__.py:63: UserWarning: Unable to import Axes3D. This may be due to multiple versions of Matplotlib being installed (e.g. as a system package and as a pip package). As a result, the 3D projection is not available.\n",
      "  warnings.warn(\"Unable to import Axes3D. This may be due to multiple versions of \"\n"
     ]
    }
   ],
   "source": [
    "import numpy as np\n",
    "import pandas as pd\n",
    "from scipy import optimize\n",
    "import matplotlib.pyplot as plt\n",
    "import os\n",
    "import json\n",
    "from copy import deepcopy as copy"
   ]
  },
  {
   "cell_type": "code",
   "execution_count": 2,
   "id": "purple-dragon",
   "metadata": {},
   "outputs": [
    {
     "name": "stdout",
     "output_type": "stream",
     "text": [
      "FRIB_model version: 1.0.0. updated on 2024-03-05\n"
     ]
    }
   ],
   "source": [
    "import FRIB_model as frib"
   ]
  },
  {
   "cell_type": "code",
   "execution_count": 3,
   "id": "major-representation",
   "metadata": {
    "scrolled": false
   },
   "outputs": [],
   "source": [
    "ISAAC_database_path = '/home/devuser/Desktop/WinHome/Workspace/BPM4pickup/ISAAC_data' \n",
    "ISAAC_data_rel_path = '20240118_103337_maruta_BDS_BTS_PM_D5567_pv_scan'\n",
    "\n",
    "fm_evals, fm_goals, fm = frib.ish.get_flame_evals_n_goals_from_reconst_summary(\n",
    "    ISAAC_data_rel_path = ISAAC_data_rel_path,\n",
    "    ISAAC_database_path = ISAAC_database_path,\n",
    "    return_flame = True)"
   ]
  },
  {
   "cell_type": "code",
   "execution_count": 4,
   "id": "prescription-rider",
   "metadata": {},
   "outputs": [
    {
     "data": {
      "text/html": [
       "<div>\n",
       "<style scoped>\n",
       "    .dataframe tbody tr th:only-of-type {\n",
       "        vertical-align: middle;\n",
       "    }\n",
       "\n",
       "    .dataframe tbody tr th {\n",
       "        vertical-align: top;\n",
       "    }\n",
       "\n",
       "    .dataframe thead tr th {\n",
       "        text-align: left;\n",
       "    }\n",
       "</style>\n",
       "<table border=\"1\" class=\"dataframe\">\n",
       "  <thead>\n",
       "    <tr>\n",
       "      <th></th>\n",
       "      <th>BDS_BTS:QV_D5501</th>\n",
       "      <th>BDS_BTS:QH_D5509</th>\n",
       "    </tr>\n",
       "    <tr>\n",
       "      <th></th>\n",
       "      <th>B2</th>\n",
       "      <th>B2</th>\n",
       "    </tr>\n",
       "  </thead>\n",
       "  <tbody>\n",
       "    <tr>\n",
       "      <th>0</th>\n",
       "      <td>-10.64594</td>\n",
       "      <td>11.44014</td>\n",
       "    </tr>\n",
       "    <tr>\n",
       "      <th>1</th>\n",
       "      <td>-10.64594</td>\n",
       "      <td>14.56072</td>\n",
       "    </tr>\n",
       "    <tr>\n",
       "      <th>2</th>\n",
       "      <td>-10.64594</td>\n",
       "      <td>17.67845</td>\n",
       "    </tr>\n",
       "    <tr>\n",
       "      <th>3</th>\n",
       "      <td>-21.83254</td>\n",
       "      <td>11.77694</td>\n",
       "    </tr>\n",
       "    <tr>\n",
       "      <th>4</th>\n",
       "      <td>-17.67880</td>\n",
       "      <td>11.77694</td>\n",
       "    </tr>\n",
       "    <tr>\n",
       "      <th>5</th>\n",
       "      <td>-13.50977</td>\n",
       "      <td>11.77694</td>\n",
       "    </tr>\n",
       "    <tr>\n",
       "      <th>6</th>\n",
       "      <td>-9.35130</td>\n",
       "      <td>11.77694</td>\n",
       "    </tr>\n",
       "  </tbody>\n",
       "</table>\n",
       "</div>"
      ],
      "text/plain": [
       "  BDS_BTS:QV_D5501 BDS_BTS:QH_D5509\n",
       "                B2               B2\n",
       "0        -10.64594         11.44014\n",
       "1        -10.64594         14.56072\n",
       "2        -10.64594         17.67845\n",
       "3        -21.83254         11.77694\n",
       "4        -17.67880         11.77694\n",
       "5        -13.50977         11.77694\n",
       "6         -9.35130         11.77694"
      ]
     },
     "execution_count": 4,
     "metadata": {},
     "output_type": "execute_result"
    }
   ],
   "source": [
    "fm_evals['df']"
   ]
  },
  {
   "cell_type": "code",
   "execution_count": 5,
   "id": "attractive-initial",
   "metadata": {},
   "outputs": [
    {
     "data": {
      "text/html": [
       "<div>\n",
       "<style scoped>\n",
       "    .dataframe tbody tr th:only-of-type {\n",
       "        vertical-align: middle;\n",
       "    }\n",
       "\n",
       "    .dataframe tbody tr th {\n",
       "        vertical-align: top;\n",
       "    }\n",
       "\n",
       "    .dataframe thead tr th {\n",
       "        text-align: left;\n",
       "    }\n",
       "</style>\n",
       "<table border=\"1\" class=\"dataframe\">\n",
       "  <thead>\n",
       "    <tr>\n",
       "      <th></th>\n",
       "      <th colspan=\"3\" halign=\"left\">BDS_BTS:PM_D5567</th>\n",
       "    </tr>\n",
       "    <tr>\n",
       "      <th></th>\n",
       "      <th>xrms</th>\n",
       "      <th>yrms</th>\n",
       "      <th>cxy</th>\n",
       "    </tr>\n",
       "  </thead>\n",
       "  <tbody>\n",
       "    <tr>\n",
       "      <th>0</th>\n",
       "      <td>1.83538</td>\n",
       "      <td>1.39379</td>\n",
       "      <td>0.71569</td>\n",
       "    </tr>\n",
       "    <tr>\n",
       "      <th>1</th>\n",
       "      <td>0.63216</td>\n",
       "      <td>1.65509</td>\n",
       "      <td>0.07299</td>\n",
       "    </tr>\n",
       "    <tr>\n",
       "      <th>2</th>\n",
       "      <td>1.64770</td>\n",
       "      <td>1.99683</td>\n",
       "      <td>-0.48515</td>\n",
       "    </tr>\n",
       "    <tr>\n",
       "      <th>3</th>\n",
       "      <td>NaN</td>\n",
       "      <td>1.68100</td>\n",
       "      <td>NaN</td>\n",
       "    </tr>\n",
       "    <tr>\n",
       "      <th>4</th>\n",
       "      <td>NaN</td>\n",
       "      <td>1.26430</td>\n",
       "      <td>0.32410</td>\n",
       "    </tr>\n",
       "    <tr>\n",
       "      <th>5</th>\n",
       "      <td>2.27724</td>\n",
       "      <td>1.13207</td>\n",
       "      <td>0.59261</td>\n",
       "    </tr>\n",
       "    <tr>\n",
       "      <th>6</th>\n",
       "      <td>1.34012</td>\n",
       "      <td>1.59373</td>\n",
       "      <td>0.74214</td>\n",
       "    </tr>\n",
       "  </tbody>\n",
       "</table>\n",
       "</div>"
      ],
      "text/plain": [
       "  BDS_BTS:PM_D5567                  \n",
       "              xrms     yrms      cxy\n",
       "0          1.83538  1.39379  0.71569\n",
       "1          0.63216  1.65509  0.07299\n",
       "2          1.64770  1.99683 -0.48515\n",
       "3              NaN  1.68100      NaN\n",
       "4              NaN  1.26430  0.32410\n",
       "5          2.27724  1.13207  0.59261\n",
       "6          1.34012  1.59373  0.74214"
      ]
     },
     "execution_count": 5,
     "metadata": {},
     "output_type": "execute_result"
    }
   ],
   "source": [
    "fm_goals['df']"
   ]
  },
  {
   "cell_type": "markdown",
   "id": "split-diving",
   "metadata": {},
   "source": [
    "# ISAAC reconstructed envelope "
   ]
  },
  {
   "cell_type": "code",
   "execution_count": 6,
   "id": "early-rally",
   "metadata": {},
   "outputs": [],
   "source": [
    "r0,s0 = fm.run(monitor='all')\n",
    "r0 = fm.collect_data(r0,'pos','xrms','yrms','cxy')"
   ]
  },
  {
   "cell_type": "markdown",
   "id": "working-peace",
   "metadata": {},
   "source": [
    "# New Fit at QV_D5501"
   ]
  },
  {
   "cell_type": "code",
   "execution_count": 7,
   "id": "measured-panel",
   "metadata": {},
   "outputs": [],
   "source": [
    "to_element   = 'BDS_BTS:PM_D5567'\n",
    "i_to_element   = fm.get_index_by_name(to_element  )[to_element  ][0]\n",
    "from_bmstate = fm.bmstate"
   ]
  },
  {
   "cell_type": "code",
   "execution_count": 8,
   "id": "worthy-project",
   "metadata": {},
   "outputs": [],
   "source": [
    "r1,s1 = fm.run(bmstate=from_bmstate, monitor='all',to_element=to_element)\n",
    "r1 = fm.collect_data(r1,'pos','xrms','yrms','cxy')"
   ]
  },
  {
   "cell_type": "markdown",
   "id": "dependent-thread",
   "metadata": {},
   "source": [
    "##### before fit"
   ]
  },
  {
   "cell_type": "code",
   "execution_count": 9,
   "id": "average-amateur",
   "metadata": {},
   "outputs": [
    {
     "name": "stdout",
     "output_type": "stream",
     "text": [
      "-0.13536536282448622 6.296390633400981 0.1544900120576113\n",
      "0.6616155442220695 11.471087304551027 0.15983893165812568\n",
      "0.7088686179632683 -0.6005281062250438 -0.34639533357318586 -0.5674139006963106\n"
     ]
    }
   ],
   "source": [
    "bmstate = from_bmstate\n",
    "xalpha, xbeta, _ = copy(bmstate.get_twiss('x'))\n",
    "yalpha, ybeta, _ = copy(bmstate.get_twiss('y'))\n",
    "xnemit = copy(bmstate.xnemittance)\n",
    "ynemit = copy(bmstate.ynemittance)\n",
    "cxy, cxyp, cxpy, cxpyp = copy([bmstate.couple_xy, bmstate.couple_xyp, bmstate.couple_xpy, bmstate.couple_xpyp])\n",
    "print(xalpha, xbeta, xnemit)\n",
    "print(yalpha, ybeta, ynemit)\n",
    "print(cxy, cxyp, cxpy, cxpyp)"
   ]
  },
  {
   "cell_type": "markdown",
   "id": "rotary-healthcare",
   "metadata": {},
   "source": [
    "##### fitting"
   ]
  },
  {
   "cell_type": "code",
   "execution_count": 10,
   "id": "electoral-bottom",
   "metadata": {
    "scrolled": false
   },
   "outputs": [
    {
     "name": "stdout",
     "output_type": "stream",
     "text": [
      "1-th trial, current_loss: 0.00162, best_loss: 0.00162\n"
     ]
    },
    {
     "data": {
      "image/png": "[encoded data removed]",
      "text/plain": [
       "<Figure size 480x192 with 1 Axes>"
      ]
     },
     "metadata": {
      "needs_background": "light"
     },
     "output_type": "display_data"
    }
   ],
   "source": [
    "frib.fmh.fit_moment1(fm,fm_evals,fm_goals,\n",
    "#                      from_bmstate = from_bmstate,\n",
    "#                      from_element= i_from_element-1,\n",
    "                     to_element  = i_to_element,\n",
    "                     n_try = 20,\n",
    "                     stop_criteria = 0.002,\n",
    "                     start_fit_from_current_bmstate = True,\n",
    "                     plot_fitting_quality = True,\n",
    "                    )"
   ]
  },
  {
   "cell_type": "markdown",
   "id": "backed-accountability",
   "metadata": {},
   "source": [
    "##### after fit"
   ]
  },
  {
   "cell_type": "code",
   "execution_count": 11,
   "id": "together-ceramic",
   "metadata": {},
   "outputs": [
    {
     "name": "stdout",
     "output_type": "stream",
     "text": [
      "-0.17906816228199304 6.4115581333326865 0.15108232935560578\n",
      "0.6625726006784542 11.362174636629437 0.15996047359764323\n",
      "0.8021421760634913 -0.5973922762450132 -0.890606880271727 -0.9999999997012703\n"
     ]
    }
   ],
   "source": [
    "bmstate = from_bmstate\n",
    "xalpha, xbeta, _ = copy(bmstate.get_twiss('x'))\n",
    "yalpha, ybeta, _ = copy(bmstate.get_twiss('y'))\n",
    "xnemit = copy(bmstate.xnemittance)\n",
    "ynemit = copy(bmstate.ynemittance)\n",
    "cxy, cxyp, cxpy, cxpyp = copy([bmstate.couple_xy, bmstate.couple_xyp, bmstate.couple_xpy, bmstate.couple_xpyp])\n",
    "print(xalpha, xbeta, xnemit)\n",
    "print(yalpha, ybeta, ynemit)\n",
    "print(cxy, cxyp, cxpy, cxpyp)"
   ]
  },
  {
   "cell_type": "code",
   "execution_count": 12,
   "id": "coupled-fashion",
   "metadata": {},
   "outputs": [],
   "source": [
    "r2,s2 = fm.run(bmstate=from_bmstate, monitor='all',to_element=to_element)\n",
    "r2 = fm.collect_data(r2,'pos','xrms','yrms','cxy')"
   ]
  },
  {
   "cell_type": "code",
   "execution_count": 13,
   "id": "organic-baseline",
   "metadata": {},
   "outputs": [
    {
     "data": {
      "image/png": "[encoded data removed]",
      "text/plain": [
       "<Figure size 864x288 with 1 Axes>"
      ]
     },
     "metadata": {
      "needs_background": "light"
     },
     "output_type": "display_data"
    }
   ],
   "source": [
    "fig,ax = plt.subplots(figsize=(12,4))\n",
    "ax.plot(r2['pos'],r2['xrms']-r1['xrms'],label=r'$\\Delta$ xrms')\n",
    "ax.plot(r2['pos'],r2['yrms']-r1['yrms'],label=r'$\\Delta$ yrms')\n",
    "ax.plot(r2['pos'],r2['cxy' ]-r1['cxy' ],label=r'$\\Delta$ cxy')\n",
    "frib.fmh.plot_lattice(fm,ax)"
   ]
  },
  {
   "cell_type": "markdown",
   "id": "advance-stuart",
   "metadata": {},
   "source": [
    "# flame_results"
   ]
  },
  {
   "cell_type": "code",
   "execution_count": 14,
   "id": "clean-deputy",
   "metadata": {},
   "outputs": [
    {
     "data": {
      "text/plain": [
       "0.0016169634476950283"
      ]
     },
     "execution_count": 14,
     "metadata": {},
     "output_type": "execute_result"
    }
   ],
   "source": [
    "frib.fmh.calculate_loss_from_flame_evals_goals(fm_evals,fm_goals,fm,from_bmstate,\n",
    "                                               from_element=None,\n",
    "                                               to_element=to_element,\n",
    "                                               )"
   ]
  },
  {
   "cell_type": "code",
   "execution_count": 15,
   "id": "environmental-prayer",
   "metadata": {},
   "outputs": [],
   "source": [
    "flame_results = frib.fmh.evaluate_flame_evals(\n",
    "    fm_evals,fm,from_bmstate,\n",
    "    from_element=None,\n",
    "    to_element=to_element,\n",
    "    monitor_names = list(fm_goals['info'].keys()),\n",
    "    )"
   ]
  },
  {
   "cell_type": "code",
   "execution_count": 16,
   "id": "civic-armor",
   "metadata": {},
   "outputs": [
    {
     "data": {
      "text/html": [
       "<div>\n",
       "<style scoped>\n",
       "    .dataframe tbody tr th:only-of-type {\n",
       "        vertical-align: middle;\n",
       "    }\n",
       "\n",
       "    .dataframe tbody tr th {\n",
       "        vertical-align: top;\n",
       "    }\n",
       "\n",
       "    .dataframe thead tr th {\n",
       "        text-align: left;\n",
       "    }\n",
       "</style>\n",
       "<table border=\"1\" class=\"dataframe\">\n",
       "  <thead>\n",
       "    <tr>\n",
       "      <th></th>\n",
       "      <th colspan=\"3\" halign=\"left\">BDS_BTS:PM_D5567</th>\n",
       "    </tr>\n",
       "    <tr>\n",
       "      <th></th>\n",
       "      <th>xrms</th>\n",
       "      <th>yrms</th>\n",
       "      <th>cxy</th>\n",
       "    </tr>\n",
       "  </thead>\n",
       "  <tbody>\n",
       "    <tr>\n",
       "      <th>0</th>\n",
       "      <td>1.765104</td>\n",
       "      <td>1.371116</td>\n",
       "      <td>0.678980</td>\n",
       "    </tr>\n",
       "    <tr>\n",
       "      <th>1</th>\n",
       "      <td>0.671668</td>\n",
       "      <td>1.674226</td>\n",
       "      <td>0.134252</td>\n",
       "    </tr>\n",
       "    <tr>\n",
       "      <th>2</th>\n",
       "      <td>1.652187</td>\n",
       "      <td>2.006610</td>\n",
       "      <td>-0.556632</td>\n",
       "    </tr>\n",
       "    <tr>\n",
       "      <th>3</th>\n",
       "      <td>4.622027</td>\n",
       "      <td>1.703204</td>\n",
       "      <td>0.133682</td>\n",
       "    </tr>\n",
       "    <tr>\n",
       "      <th>4</th>\n",
       "      <td>3.460450</td>\n",
       "      <td>1.228064</td>\n",
       "      <td>0.341491</td>\n",
       "    </tr>\n",
       "    <tr>\n",
       "      <th>5</th>\n",
       "      <td>2.334866</td>\n",
       "      <td>1.156618</td>\n",
       "      <td>0.584359</td>\n",
       "    </tr>\n",
       "    <tr>\n",
       "      <th>6</th>\n",
       "      <td>1.306084</td>\n",
       "      <td>1.566740</td>\n",
       "      <td>0.699710</td>\n",
       "    </tr>\n",
       "  </tbody>\n",
       "</table>\n",
       "</div>"
      ],
      "text/plain": [
       "  BDS_BTS:PM_D5567                    \n",
       "              xrms      yrms       cxy\n",
       "0         1.765104  1.371116  0.678980\n",
       "1         0.671668  1.674226  0.134252\n",
       "2         1.652187  2.006610 -0.556632\n",
       "3         4.622027  1.703204  0.133682\n",
       "4         3.460450  1.228064  0.341491\n",
       "5         2.334866  1.156618  0.584359\n",
       "6         1.306084  1.566740  0.699710"
      ]
     },
     "execution_count": 16,
     "metadata": {},
     "output_type": "execute_result"
    }
   ],
   "source": [
    "flame_results"
   ]
  },
  {
   "cell_type": "code",
   "execution_count": 17,
   "id": "activated-activity",
   "metadata": {},
   "outputs": [
    {
     "data": {
      "text/plain": [
       "Text(0.5, 0, 'data no.')"
      ]
     },
     "execution_count": 17,
     "metadata": {},
     "output_type": "execute_result"
    },
    {
     "data": {
      "image/png": "[encoded data removed]",
      "text/plain": [
       "<Figure size 480x192 with 1 Axes>"
      ]
     },
     "metadata": {
      "needs_background": "light"
     },
     "output_type": "display_data"
    }
   ],
   "source": [
    "flame_goals = fm_goals\n",
    "\n",
    "monitors = list(flame_goals['info'].keys())\n",
    "for i,m in enumerate(monitors):\n",
    "    fig,ax = plt.subplots(figsize=(5,2), dpi=96)\n",
    "    for k in flame_results[m].columns:\n",
    "        col = (m,k)\n",
    "        if not np.all(np.isnan(flame_goals['df'][col])):\n",
    "            x = np.arange(len(flame_results))\n",
    "            ax.scatter(x,flame_goals['df'][col],s=4)\n",
    "            ax.plot   (x,flame_results[col],label=m[m.find(\":\")+1:]+':'+k)\n",
    "    ax.legend()\n",
    "ax.set_xlabel('data no.')"
   ]
  },
  {
   "cell_type": "code",
   "execution_count": null,
   "id": "contained-guyana",
   "metadata": {},
   "outputs": [],
   "source": []
  }
 ],
 "metadata": {
  "kernelspec": {
   "display_name": "Python 3",
   "language": "python",
   "name": "python3"
  },
  "language_info": {
   "codemirror_mode": {
    "name": "ipython",
    "version": 3
   },
   "file_extension": ".py",
   "mimetype": "text/x-python",
   "name": "python",
   "nbconvert_exporter": "python",
   "pygments_lexer": "ipython3",
   "version": "3.9.2"
  }
 },
 "nbformat": 4,
 "nbformat_minor": 5
}

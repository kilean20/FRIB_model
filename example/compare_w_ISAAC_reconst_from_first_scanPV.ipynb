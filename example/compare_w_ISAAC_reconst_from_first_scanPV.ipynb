{
 "cells": [
  {
   "cell_type": "code",
   "execution_count": 1,
   "id": "after-juice",
   "metadata": {},
   "outputs": [
    {
     "name": "stderr",
     "output_type": "stream",
     "text": [
      "/home/devuser/.local/lib/python3.9/site-packages/matplotlib/projections/__init__.py:63: UserWarning: Unable to import Axes3D. This may be due to multiple versions of Matplotlib being installed (e.g. as a system package and as a pip package). As a result, the 3D projection is not available.\n",
      "  warnings.warn(\"Unable to import Axes3D. This may be due to multiple versions of \"\n"
     ]
    }
   ],
   "source": [
    "import numpy as np\n",
    "import pandas as pd\n",
    "from scipy import optimize\n",
    "import matplotlib.pyplot as plt\n",
    "import os\n",
    "import json\n",
    "from copy import deepcopy as copy\n",
    "import glob"
   ]
  },
  {
   "cell_type": "code",
   "execution_count": 2,
   "id": "purple-dragon",
   "metadata": {},
   "outputs": [
    {
     "name": "stdout",
     "output_type": "stream",
     "text": [
      "FRIB_model version: 1.0.0. updated on 2024-03-05\n"
     ]
    }
   ],
   "source": [
    "import FRIB_model as frib"
   ]
  },
  {
   "cell_type": "code",
   "execution_count": 3,
   "id": "major-representation",
   "metadata": {
    "scrolled": false
   },
   "outputs": [],
   "source": [
    "ISAAC_database_path = '/home/devuser/Desktop/WinHome/Workspace/BPM4pickup/ISAAC_data' \n",
    "ISAAC_data_rel_path = '20240118_103337_maruta_BDS_BTS_PM_D5567_pv_scan'\n",
    "\n",
    "fm_evals, fm_goals, fm = frib.ish.get_flame_evals_n_goals_from_reconst_summary(\n",
    "    ISAAC_data_rel_path = ISAAC_data_rel_path,\n",
    "    ISAAC_database_path = ISAAC_database_path,\n",
    "    return_flame = True)"
   ]
  },
  {
   "cell_type": "markdown",
   "id": "split-diving",
   "metadata": {},
   "source": [
    "# ISAAC reconstructed envelope "
   ]
  },
  {
   "cell_type": "code",
   "execution_count": 4,
   "id": "early-rally",
   "metadata": {},
   "outputs": [],
   "source": [
    "r0,s0 = fm.run(monitor='all')\n",
    "r0 = fm.collect_data(r0,'pos','xrms','yrms','cxy')"
   ]
  },
  {
   "cell_type": "markdown",
   "id": "working-peace",
   "metadata": {},
   "source": [
    "# New Fit at QV_D5501"
   ]
  },
  {
   "cell_type": "code",
   "execution_count": 5,
   "id": "measured-panel",
   "metadata": {},
   "outputs": [],
   "source": [
    "from_element = 'BDS_BTS:QV_D5501'\n",
    "to_element   = 'BDS_BTS:PM_D5567'\n",
    "i_from_element = fm.get_index_by_name(from_element)[from_element][0]\n",
    "i_to_element   = fm.get_index_by_name(to_element  )[to_element  ][0]\n",
    "_, from_bmstate = fm.run(to_element=i_from_element-1)\n",
    "from_moment1 = from_bmstate.moment1.copy()"
   ]
  },
  {
   "cell_type": "code",
   "execution_count": 6,
   "id": "defined-invasion",
   "metadata": {},
   "outputs": [],
   "source": [
    "r1,s1 = fm.run(bmstate=from_bmstate, monitor='all',from_element=i_from_element,to_element=to_element)\n",
    "r1 = fm.collect_data(r1,'pos','xrms','yrms','cxy')"
   ]
  },
  {
   "cell_type": "markdown",
   "id": "affecting-filter",
   "metadata": {},
   "source": [
    "##### before fit"
   ]
  },
  {
   "cell_type": "code",
   "execution_count": 7,
   "id": "median-magazine",
   "metadata": {},
   "outputs": [
    {
     "name": "stdout",
     "output_type": "stream",
     "text": [
      "-1.3477301185602333 7.14345122021582 0.154490012057611\n",
      "-0.8503027690094562 3.6873702585608132 0.15983893165812538\n",
      "0.2624341481173254 0.7262878727981832 0.7053216000073145 0.6747359242119026\n"
     ]
    }
   ],
   "source": [
    "bmstate = from_bmstate\n",
    "xalpha, xbeta, _ = copy(bmstate.get_twiss('x'))\n",
    "yalpha, ybeta, _ = copy(bmstate.get_twiss('y'))\n",
    "xnemit = copy(bmstate.xnemittance)\n",
    "ynemit = copy(bmstate.ynemittance)\n",
    "cxy, cxyp, cxpy, cxpyp = copy([bmstate.couple_xy, bmstate.couple_xyp, bmstate.couple_xpy, bmstate.couple_xpyp])\n",
    "print(xalpha, xbeta, xnemit)\n",
    "print(yalpha, ybeta, ynemit)\n",
    "print(cxy, cxyp, cxpy, cxpyp)"
   ]
  },
  {
   "cell_type": "markdown",
   "id": "arbitrary-times",
   "metadata": {},
   "source": [
    "##### fitting"
   ]
  },
  {
   "cell_type": "code",
   "execution_count": 8,
   "id": "electoral-bottom",
   "metadata": {
    "scrolled": false
   },
   "outputs": [
    {
     "name": "stdout",
     "output_type": "stream",
     "text": [
      "1-th trial, current_loss: 0.00162, best_loss: 0.00162\n"
     ]
    },
    {
     "data": {
      "image/png": "[encoded data removed]",
      "text/plain": [
       "<Figure size 480x192 with 1 Axes>"
      ]
     },
     "metadata": {
      "needs_background": "light"
     },
     "output_type": "display_data"
    }
   ],
   "source": [
    "frib.fmh.fit_moment1(fm,fm_evals,fm_goals,\n",
    "                     from_bmstate = from_bmstate,\n",
    "                     from_element= i_from_element-1,\n",
    "                     to_element  = i_to_element,\n",
    "                     n_try = 20,\n",
    "                     stop_criteria = 0.002,\n",
    "                     start_fit_from_current_bmstate = True,\n",
    "                     plot_fitting_quality = True,\n",
    "                    )"
   ]
  },
  {
   "cell_type": "markdown",
   "id": "irish-degree",
   "metadata": {},
   "source": [
    "##### after fit"
   ]
  },
  {
   "cell_type": "code",
   "execution_count": 9,
   "id": "phantom-jumping",
   "metadata": {},
   "outputs": [
    {
     "name": "stdout",
     "output_type": "stream",
     "text": [
      "-1.3925136763009427 7.093238369929288 0.15012603996278914\n",
      "-0.8396852044590839 3.652570070811225 0.16015380630969928\n",
      "0.07638673104911992 0.7824947498030224 0.9999999990868458 0.6849848514034684\n"
     ]
    }
   ],
   "source": [
    "bmstate = from_bmstate\n",
    "xalpha, xbeta, _ = copy(bmstate.get_twiss('x'))\n",
    "yalpha, ybeta, _ = copy(bmstate.get_twiss('y'))\n",
    "xnemit = copy(bmstate.xnemittance)\n",
    "ynemit = copy(bmstate.ynemittance)\n",
    "cxy, cxyp, cxpy, cxpyp = copy([bmstate.couple_xy, bmstate.couple_xyp, bmstate.couple_xpy, bmstate.couple_xpyp])\n",
    "print(xalpha, xbeta, xnemit)\n",
    "print(yalpha, ybeta, ynemit)\n",
    "print(cxy, cxyp, cxpy, cxpyp)"
   ]
  },
  {
   "cell_type": "code",
   "execution_count": 10,
   "id": "coupled-fashion",
   "metadata": {},
   "outputs": [],
   "source": [
    "r2,s2 = fm.run(bmstate=from_bmstate, monitor='all',from_element=i_from_element,to_element=to_element)\n",
    "r2 = fm.collect_data(r2,'pos','xrms','yrms','cxy')"
   ]
  },
  {
   "cell_type": "code",
   "execution_count": 11,
   "id": "organic-baseline",
   "metadata": {},
   "outputs": [
    {
     "data": {
      "image/png": "[encoded data removed]",
      "text/plain": [
       "<Figure size 864x288 with 1 Axes>"
      ]
     },
     "metadata": {
      "needs_background": "light"
     },
     "output_type": "display_data"
    }
   ],
   "source": [
    "fig,ax = plt.subplots(figsize=(12,4))\n",
    "ax.plot(r2['pos'],r2['xrms']-r1['xrms'],label=r'$\\Delta$ xrms')\n",
    "ax.plot(r2['pos'],r2['yrms']-r1['yrms'],label=r'$\\Delta$ yrms')\n",
    "ax.plot(r2['pos'],r2['cxy' ]-r1['cxy' ],label=r'$\\Delta$ cxy')\n",
    "frib.fmh.plot_lattice(fm,ax)"
   ]
  },
  {
   "cell_type": "markdown",
   "id": "coordinated-working",
   "metadata": {},
   "source": [
    "# flame_results"
   ]
  },
  {
   "cell_type": "code",
   "execution_count": 12,
   "id": "theoretical-guyana",
   "metadata": {},
   "outputs": [
    {
     "data": {
      "text/plain": [
       "0.0017005081964457027"
      ]
     },
     "execution_count": 12,
     "metadata": {},
     "output_type": "execute_result"
    }
   ],
   "source": [
    "frib.fmh.calculate_loss_from_flame_evals_goals(fm_evals,fm_goals,fm,from_bmstate,\n",
    "                                                from_element=from_element,\n",
    "                                                to_element=to_element,\n",
    "                                               )"
   ]
  },
  {
   "cell_type": "code",
   "execution_count": 13,
   "id": "knowing-jimmy",
   "metadata": {},
   "outputs": [],
   "source": [
    "flame_results = frib.fmh.evaluate_flame_evals(\n",
    "    fm_evals,fm,from_bmstate,\n",
    "    from_element=from_element,\n",
    "    to_element=to_element,\n",
    "    monitor_names = list(fm_goals['info'].keys()),\n",
    "    )"
   ]
  },
  {
   "cell_type": "code",
   "execution_count": 14,
   "id": "invisible-coating",
   "metadata": {},
   "outputs": [
    {
     "data": {
      "text/html": [
       "<div>\n",
       "<style scoped>\n",
       "    .dataframe tbody tr th:only-of-type {\n",
       "        vertical-align: middle;\n",
       "    }\n",
       "\n",
       "    .dataframe tbody tr th {\n",
       "        vertical-align: top;\n",
       "    }\n",
       "\n",
       "    .dataframe thead tr th {\n",
       "        text-align: left;\n",
       "    }\n",
       "</style>\n",
       "<table border=\"1\" class=\"dataframe\">\n",
       "  <thead>\n",
       "    <tr>\n",
       "      <th></th>\n",
       "      <th colspan=\"3\" halign=\"left\">BDS_BTS:PM_D5567</th>\n",
       "    </tr>\n",
       "    <tr>\n",
       "      <th></th>\n",
       "      <th>xrms</th>\n",
       "      <th>yrms</th>\n",
       "      <th>cxy</th>\n",
       "    </tr>\n",
       "  </thead>\n",
       "  <tbody>\n",
       "    <tr>\n",
       "      <th>0</th>\n",
       "      <td>1.760505</td>\n",
       "      <td>1.373967</td>\n",
       "      <td>0.677791</td>\n",
       "    </tr>\n",
       "    <tr>\n",
       "      <th>1</th>\n",
       "      <td>0.673728</td>\n",
       "      <td>1.672282</td>\n",
       "      <td>0.146951</td>\n",
       "    </tr>\n",
       "    <tr>\n",
       "      <th>2</th>\n",
       "      <td>1.633614</td>\n",
       "      <td>1.999944</td>\n",
       "      <td>-0.544523</td>\n",
       "    </tr>\n",
       "    <tr>\n",
       "      <th>3</th>\n",
       "      <td>4.589166</td>\n",
       "      <td>1.705473</td>\n",
       "      <td>0.167732</td>\n",
       "    </tr>\n",
       "    <tr>\n",
       "      <th>4</th>\n",
       "      <td>3.438703</td>\n",
       "      <td>1.239547</td>\n",
       "      <td>0.366165</td>\n",
       "    </tr>\n",
       "    <tr>\n",
       "      <th>5</th>\n",
       "      <td>2.324208</td>\n",
       "      <td>1.167078</td>\n",
       "      <td>0.589507</td>\n",
       "    </tr>\n",
       "    <tr>\n",
       "      <th>6</th>\n",
       "      <td>1.306161</td>\n",
       "      <td>1.564951</td>\n",
       "      <td>0.698200</td>\n",
       "    </tr>\n",
       "  </tbody>\n",
       "</table>\n",
       "</div>"
      ],
      "text/plain": [
       "  BDS_BTS:PM_D5567                    \n",
       "              xrms      yrms       cxy\n",
       "0         1.760505  1.373967  0.677791\n",
       "1         0.673728  1.672282  0.146951\n",
       "2         1.633614  1.999944 -0.544523\n",
       "3         4.589166  1.705473  0.167732\n",
       "4         3.438703  1.239547  0.366165\n",
       "5         2.324208  1.167078  0.589507\n",
       "6         1.306161  1.564951  0.698200"
      ]
     },
     "execution_count": 14,
     "metadata": {},
     "output_type": "execute_result"
    }
   ],
   "source": [
    "flame_results"
   ]
  },
  {
   "cell_type": "code",
   "execution_count": 15,
   "id": "auburn-cleaner",
   "metadata": {},
   "outputs": [
    {
     "data": {
      "text/plain": [
       "Text(0.5, 0, 'data no.')"
      ]
     },
     "execution_count": 15,
     "metadata": {},
     "output_type": "execute_result"
    },
    {
     "data": {
      "image/png": "[encoded data removed]",
      "text/plain": [
       "<Figure size 480x192 with 1 Axes>"
      ]
     },
     "metadata": {
      "needs_background": "light"
     },
     "output_type": "display_data"
    }
   ],
   "source": [
    "flame_goals = fm_goals\n",
    "\n",
    "monitors = list(flame_goals['info'].keys())\n",
    "for i,m in enumerate(monitors):\n",
    "    fig,ax = plt.subplots(figsize=(5,2), dpi=96)\n",
    "    for k in flame_results[m].columns:\n",
    "        col = (m,k)\n",
    "        if not np.all(np.isnan(flame_goals['df'][col])):\n",
    "            x = np.arange(len(flame_results))\n",
    "            ax.scatter(x,flame_goals['df'][col],s=4)\n",
    "            ax.plot   (x,flame_results[col],label=m[m.find(\":\")+1:]+':'+k)\n",
    "    ax.legend()\n",
    "ax.set_xlabel('data no.')"
   ]
  },
  {
   "cell_type": "code",
   "execution_count": null,
   "id": "ranging-hudson",
   "metadata": {},
   "outputs": [],
   "source": []
  },
  {
   "cell_type": "code",
   "execution_count": null,
   "id": "plastic-steering",
   "metadata": {},
   "outputs": [],
   "source": []
  }
 ],
 "metadata": {
  "kernelspec": {
   "display_name": "Python 3",
   "language": "python",
   "name": "python3"
  },
  "language_info": {
   "codemirror_mode": {
    "name": "ipython",
    "version": 3
   },
   "file_extension": ".py",
   "mimetype": "text/x-python",
   "name": "python",
   "nbconvert_exporter": "python",
   "pygments_lexer": "ipython3",
   "version": "3.9.2"
  }
 },
 "nbformat": 4,
 "nbformat_minor": 5
}
